{
 "cells": [
  {
   "cell_type": "markdown",
   "id": "32f7aea4-63d6-43e9-8e2c-bdc976914fd0",
   "metadata": {},
   "source": [
    "# Proceso Modelamiento ML Ops - Yahoo Finance - Nvidia\n",
    "## Realizado por Daniel Muñoz Palma"
   ]
  },
  {
   "cell_type": "code",
   "execution_count": 1,
   "id": "0d5224dc-6948-41ce-9173-110dabd51347",
   "metadata": {},
   "outputs": [],
   "source": [
    "#!pip install yfinance -q"
   ]
  },
  {
   "cell_type": "code",
   "execution_count": 2,
   "id": "8058dea5-47e5-47c9-9736-32d328fbe76f",
   "metadata": {},
   "outputs": [],
   "source": [
    "#!pip install prophet -q"
   ]
  },
  {
   "cell_type": "markdown",
   "id": "f5be3c38-4e6a-406c-b879-b88f8b932bbd",
   "metadata": {},
   "source": [
    "## Librerias"
   ]
  },
  {
   "cell_type": "code",
   "execution_count": 22,
   "id": "ebee46dc-8aec-4b15-b010-14f9472b7dcf",
   "metadata": {},
   "outputs": [],
   "source": [
    "import yfinance as yf\n",
    "import pandas as pd\n",
    "from prophet import Prophet\n",
    "from datetime import datetime, timedelta\n",
    "import numpy as np\n",
    "import os\n",
    "from sklearn.metrics import mean_absolute_error, mean_squared_error"
   ]
  },
  {
   "cell_type": "markdown",
   "id": "55a88280-6e7f-48d4-b9cc-99ea5e21c3db",
   "metadata": {},
   "source": [
    "## 1. Punto: Extraer datos históricos de la compañía Nvidia y sus componentes desde Yahoo Finance utilizando Python"
   ]
  },
  {
   "cell_type": "code",
   "execution_count": 23,
   "id": "6b704ee0-9c5d-4790-8eae-250dc7570004",
   "metadata": {},
   "outputs": [],
   "source": [
    "# Fechas: últimos 10 años\n",
    "end_date = datetime.today()\n",
    "start_date = end_date - timedelta(days=365*10)"
   ]
  },
  {
   "cell_type": "code",
   "execution_count": 37,
   "id": "9060aab3-1cb2-481b-819b-e28471db4b76",
   "metadata": {},
   "outputs": [
    {
     "name": "stderr",
     "output_type": "stream",
     "text": [
      "C:\\Users\\lenovo\\AppData\\Local\\Temp\\ipykernel_19812\\2347157820.py:2: FutureWarning: YF.download() has changed argument auto_adjust default to True\n",
      "  nvda = yf.download(\"NVDA\", start=start_date.strftime(\"%Y-%m-%d\"), end=end_date.strftime(\"%Y-%m-%d\"), progress=True, group_by=None)\n",
      "[*********************100%***********************]  1 of 1 completed\n"
     ]
    }
   ],
   "source": [
    "#1. Descargar datos SIN multiíndice\n",
    "nvda = yf.download(\"NVDA\", start=start_date.strftime(\"%Y-%m-%d\"), end=end_date.strftime(\"%Y-%m-%d\"), progress=True, group_by=None)\n",
    "#2. Aplanar columnas si aún vienen con multiíndice\n",
    "\n",
    "if isinstance(nvda.columns, pd.MultiIndex):\n",
    "    nvda.columns = nvda.columns.get_level_values(1)\n",
    "\n",
    "#3. Quitar nombres de columnas y resetear índice\n",
    "nvda.columns.name = None\n",
    "nvda.reset_index(inplace=True)"
   ]
  },
  {
   "cell_type": "code",
   "execution_count": 38,
   "id": "92b2ba8a-53ef-42ca-b4d9-48eb4149f16b",
   "metadata": {},
   "outputs": [
    {
     "data": {
      "text/html": [
       "<div>\n",
       "<style scoped>\n",
       "    .dataframe tbody tr th:only-of-type {\n",
       "        vertical-align: middle;\n",
       "    }\n",
       "\n",
       "    .dataframe tbody tr th {\n",
       "        vertical-align: top;\n",
       "    }\n",
       "\n",
       "    .dataframe thead th {\n",
       "        text-align: right;\n",
       "    }\n",
       "</style>\n",
       "<table border=\"1\" class=\"dataframe\">\n",
       "  <thead>\n",
       "    <tr style=\"text-align: right;\">\n",
       "      <th></th>\n",
       "      <th>Date</th>\n",
       "      <th>Open</th>\n",
       "      <th>High</th>\n",
       "      <th>Low</th>\n",
       "      <th>Close</th>\n",
       "      <th>Volume</th>\n",
       "    </tr>\n",
       "  </thead>\n",
       "  <tbody>\n",
       "    <tr>\n",
       "      <th>0</th>\n",
       "      <td>2015-06-22</td>\n",
       "      <td>0.530248</td>\n",
       "      <td>0.533153</td>\n",
       "      <td>0.519116</td>\n",
       "      <td>0.527102</td>\n",
       "      <td>514236000</td>\n",
       "    </tr>\n",
       "    <tr>\n",
       "      <th>1</th>\n",
       "      <td>2015-06-23</td>\n",
       "      <td>0.528070</td>\n",
       "      <td>0.532184</td>\n",
       "      <td>0.509435</td>\n",
       "      <td>0.513550</td>\n",
       "      <td>414064000</td>\n",
       "    </tr>\n",
       "    <tr>\n",
       "      <th>2</th>\n",
       "      <td>2015-06-24</td>\n",
       "      <td>0.512824</td>\n",
       "      <td>0.515486</td>\n",
       "      <td>0.506047</td>\n",
       "      <td>0.508468</td>\n",
       "      <td>253368000</td>\n",
       "    </tr>\n",
       "    <tr>\n",
       "      <th>3</th>\n",
       "      <td>2015-06-25</td>\n",
       "      <td>0.508467</td>\n",
       "      <td>0.515486</td>\n",
       "      <td>0.508467</td>\n",
       "      <td>0.512340</td>\n",
       "      <td>350460000</td>\n",
       "    </tr>\n",
       "    <tr>\n",
       "      <th>4</th>\n",
       "      <td>2015-06-26</td>\n",
       "      <td>0.508225</td>\n",
       "      <td>0.508709</td>\n",
       "      <td>0.499755</td>\n",
       "      <td>0.501933</td>\n",
       "      <td>421296000</td>\n",
       "    </tr>\n",
       "  </tbody>\n",
       "</table>\n",
       "</div>"
      ],
      "text/plain": [
       "        Date      Open      High       Low     Close     Volume\n",
       "0 2015-06-22  0.530248  0.533153  0.519116  0.527102  514236000\n",
       "1 2015-06-23  0.528070  0.532184  0.509435  0.513550  414064000\n",
       "2 2015-06-24  0.512824  0.515486  0.506047  0.508468  253368000\n",
       "3 2015-06-25  0.508467  0.515486  0.508467  0.512340  350460000\n",
       "4 2015-06-26  0.508225  0.508709  0.499755  0.501933  421296000"
      ]
     },
     "execution_count": 38,
     "metadata": {},
     "output_type": "execute_result"
    }
   ],
   "source": [
    "nvda.head()"
   ]
  },
  {
   "cell_type": "code",
   "execution_count": 42,
   "id": "5a17a38e-2b27-413a-8d20-800c4bf8d756",
   "metadata": {},
   "outputs": [],
   "source": [
    "# 2. Preparar datos para Prophet\n",
    "df = hist.reset_index()[['Date', 'Close']]"
   ]
  },
  {
   "cell_type": "code",
   "execution_count": 43,
   "id": "6499e1be-c9bc-47a9-a7da-af61e45f73f3",
   "metadata": {},
   "outputs": [],
   "source": [
    "df.rename(columns={'Date': 'ds', 'Close': 'y'}, inplace=True)\n",
    "df['ds'] = df['ds'].dt.tz_localize(None)"
   ]
  },
  {
   "cell_type": "code",
   "execution_count": 44,
   "id": "73e0805a-1b4f-45a5-a9c2-814e124390bb",
   "metadata": {},
   "outputs": [
    {
     "data": {
      "text/html": [
       "<div>\n",
       "<style scoped>\n",
       "    .dataframe tbody tr th:only-of-type {\n",
       "        vertical-align: middle;\n",
       "    }\n",
       "\n",
       "    .dataframe tbody tr th {\n",
       "        vertical-align: top;\n",
       "    }\n",
       "\n",
       "    .dataframe thead th {\n",
       "        text-align: right;\n",
       "    }\n",
       "</style>\n",
       "<table border=\"1\" class=\"dataframe\">\n",
       "  <thead>\n",
       "    <tr style=\"text-align: right;\">\n",
       "      <th></th>\n",
       "      <th>ds</th>\n",
       "      <th>y</th>\n",
       "    </tr>\n",
       "  </thead>\n",
       "  <tbody>\n",
       "    <tr>\n",
       "      <th>0</th>\n",
       "      <td>2015-06-19</td>\n",
       "      <td>0.529280</td>\n",
       "    </tr>\n",
       "    <tr>\n",
       "      <th>1</th>\n",
       "      <td>2015-06-22</td>\n",
       "      <td>0.527102</td>\n",
       "    </tr>\n",
       "    <tr>\n",
       "      <th>2</th>\n",
       "      <td>2015-06-23</td>\n",
       "      <td>0.513549</td>\n",
       "    </tr>\n",
       "    <tr>\n",
       "      <th>3</th>\n",
       "      <td>2015-06-24</td>\n",
       "      <td>0.508467</td>\n",
       "    </tr>\n",
       "    <tr>\n",
       "      <th>4</th>\n",
       "      <td>2015-06-25</td>\n",
       "      <td>0.512340</td>\n",
       "    </tr>\n",
       "    <tr>\n",
       "      <th>...</th>\n",
       "      <td>...</td>\n",
       "      <td>...</td>\n",
       "    </tr>\n",
       "    <tr>\n",
       "      <th>2510</th>\n",
       "      <td>2025-06-12</td>\n",
       "      <td>145.000000</td>\n",
       "    </tr>\n",
       "    <tr>\n",
       "      <th>2511</th>\n",
       "      <td>2025-06-13</td>\n",
       "      <td>141.970001</td>\n",
       "    </tr>\n",
       "    <tr>\n",
       "      <th>2512</th>\n",
       "      <td>2025-06-16</td>\n",
       "      <td>144.690002</td>\n",
       "    </tr>\n",
       "    <tr>\n",
       "      <th>2513</th>\n",
       "      <td>2025-06-17</td>\n",
       "      <td>144.119995</td>\n",
       "    </tr>\n",
       "    <tr>\n",
       "      <th>2514</th>\n",
       "      <td>2025-06-18</td>\n",
       "      <td>145.479996</td>\n",
       "    </tr>\n",
       "  </tbody>\n",
       "</table>\n",
       "<p>2515 rows × 2 columns</p>\n",
       "</div>"
      ],
      "text/plain": [
       "             ds           y\n",
       "0    2015-06-19    0.529280\n",
       "1    2015-06-22    0.527102\n",
       "2    2015-06-23    0.513549\n",
       "3    2015-06-24    0.508467\n",
       "4    2015-06-25    0.512340\n",
       "...         ...         ...\n",
       "2510 2025-06-12  145.000000\n",
       "2511 2025-06-13  141.970001\n",
       "2512 2025-06-16  144.690002\n",
       "2513 2025-06-17  144.119995\n",
       "2514 2025-06-18  145.479996\n",
       "\n",
       "[2515 rows x 2 columns]"
      ]
     },
     "execution_count": 44,
     "metadata": {},
     "output_type": "execute_result"
    }
   ],
   "source": [
    "df"
   ]
  },
  {
   "cell_type": "code",
   "execution_count": 51,
   "id": "c6250356-6b5f-442e-a744-b0e42636c4de",
   "metadata": {},
   "outputs": [
    {
     "name": "stderr",
     "output_type": "stream",
     "text": [
      "12:14:10 - cmdstanpy - INFO - Chain [1] start processing\n",
      "12:14:12 - cmdstanpy - INFO - Chain [1] done processing\n"
     ]
    },
    {
     "data": {
      "text/plain": [
       "<prophet.forecaster.Prophet at 0x179a896cd10>"
      ]
     },
     "execution_count": 51,
     "metadata": {},
     "output_type": "execute_result"
    }
   ],
   "source": [
    "# 3. Entrenar modelo Prophet\n",
    "model = Prophet(daily_seasonality=True)\n",
    "model.fit(df)"
   ]
  },
  {
   "cell_type": "code",
   "execution_count": 52,
   "id": "5ba7f867-5259-4ebc-b5fd-31facce3bfd6",
   "metadata": {},
   "outputs": [],
   "source": [
    "# 4. Predecir para mañana\n",
    "future = model.make_future_dataframe(periods=1)\n",
    "forecast = model.predict(future)"
   ]
  },
  {
   "cell_type": "code",
   "execution_count": 53,
   "id": "1cefed5a-25e9-4718-ad10-b16dff41bd8c",
   "metadata": {},
   "outputs": [],
   "source": [
    "# 5. Extraer predicción del día siguiente\n",
    "prediccion_manana = forecast.iloc[-1][['ds', 'yhat', 'yhat_lower', 'yhat_upper']]"
   ]
  },
  {
   "cell_type": "code",
   "execution_count": 54,
   "id": "efd53079-8618-401d-992a-75b376772671",
   "metadata": {},
   "outputs": [],
   "source": [
    "# 6. Calcular errores sobre los datos históricos\n",
    "forecast_trim = forecast[forecast['ds'].isin(df['ds'])].copy()\n",
    "df_eval = df.merge(forecast_trim[['ds', 'yhat']], on='ds')\n",
    "y_true = df_eval['y']\n",
    "y_pred = df_eval['yhat']\n",
    "\n",
    "mae = mean_absolute_error(y_true, y_pred)\n",
    "mse = mean_squared_error(y_true, y_pred)\n",
    "rmse = np.sqrt(mse)\n",
    "mape = np.mean(np.abs((y_true - y_pred) / y_true)) * 100\n"
   ]
  },
  {
   "cell_type": "code",
   "execution_count": 55,
   "id": "3828ed75-93aa-48cf-a57a-296b4ccb3024",
   "metadata": {},
   "outputs": [],
   "source": [
    "# 7. Crear tabla resumen de errores\n",
    "errores_df = pd.DataFrame({\n",
    "    'Métrica': ['MAE', 'MSE', 'RMSE', 'MAPE'],\n",
    "    'Valor': [mae, mse, rmse, mape]\n",
    "}).round(2)"
   ]
  },
  {
   "cell_type": "code",
   "execution_count": 56,
   "id": "a3ba0f11-5971-4441-a6e1-0f18093863bb",
   "metadata": {},
   "outputs": [
    {
     "data": {
      "text/html": [
       "<div>\n",
       "<style scoped>\n",
       "    .dataframe tbody tr th:only-of-type {\n",
       "        vertical-align: middle;\n",
       "    }\n",
       "\n",
       "    .dataframe tbody tr th {\n",
       "        vertical-align: top;\n",
       "    }\n",
       "\n",
       "    .dataframe thead th {\n",
       "        text-align: right;\n",
       "    }\n",
       "</style>\n",
       "<table border=\"1\" class=\"dataframe\">\n",
       "  <thead>\n",
       "    <tr style=\"text-align: right;\">\n",
       "      <th></th>\n",
       "      <th>Métrica</th>\n",
       "      <th>Valor</th>\n",
       "    </tr>\n",
       "  </thead>\n",
       "  <tbody>\n",
       "    <tr>\n",
       "      <th>0</th>\n",
       "      <td>MAE</td>\n",
       "      <td>4.16</td>\n",
       "    </tr>\n",
       "    <tr>\n",
       "      <th>1</th>\n",
       "      <td>MSE</td>\n",
       "      <td>56.36</td>\n",
       "    </tr>\n",
       "    <tr>\n",
       "      <th>2</th>\n",
       "      <td>RMSE</td>\n",
       "      <td>7.51</td>\n",
       "    </tr>\n",
       "    <tr>\n",
       "      <th>3</th>\n",
       "      <td>MAPE</td>\n",
       "      <td>43.50</td>\n",
       "    </tr>\n",
       "  </tbody>\n",
       "</table>\n",
       "</div>"
      ],
      "text/plain": [
       "  Métrica  Valor\n",
       "0     MAE   4.16\n",
       "1     MSE  56.36\n",
       "2    RMSE   7.51\n",
       "3    MAPE  43.50"
      ]
     },
     "execution_count": 56,
     "metadata": {},
     "output_type": "execute_result"
    }
   ],
   "source": [
    "#errores_df"
   ]
  },
  {
   "cell_type": "code",
   "execution_count": 58,
   "id": "26ff8016-f098-4ce2-912a-fbf413f0b3af",
   "metadata": {},
   "outputs": [],
   "source": [
    "# 8. Guardar resultados\n",
    "hoy = datetime.now().strftime(\"%Y-%m-%d\")\n",
    "os.makedirs(\"forecasts\", exist_ok=True)\n",
    "\n",
    "pred_path = f\"forecasts/prediccion_{hoy}.csv\"\n",
    "err_path  = f\"forecasts/errores_{hoy}.csv\"\n",
    "\n",
    "prediccion_manana.to_frame().T.to_csv(pred_path, index=False)\n",
    "errores_df.to_csv(err_path, index=False)"
   ]
  },
  {
   "cell_type": "code",
   "execution_count": 59,
   "id": "cfea0ad1-9ad6-4e2f-933b-84ddfd308261",
   "metadata": {},
   "outputs": [
    {
     "name": "stdout",
     "output_type": "stream",
     "text": [
      "✅ Predicción guardada en: forecasts/prediccion_2025-06-19.csv\n",
      "ds            2025-06-19 00:00:00\n",
      "yhat                   155.242048\n",
      "yhat_lower             145.687696\n",
      "yhat_upper             164.357993\n",
      "Name: 2515, dtype: object\n",
      "\n",
      "📊 Tabla de errores:\n",
      "  Métrica  Valor\n",
      "0     MAE   4.16\n",
      "1     MSE  56.36\n",
      "2    RMSE   7.51\n",
      "3    MAPE  43.50\n"
     ]
    }
   ],
   "source": [
    "# 9. Mostrar en consola\n",
    "print(\"✅ Predicción guardada en:\", pred_path)\n",
    "print(prediccion_manana)\n",
    "print(\"\\n📊 Tabla de errores:\")\n",
    "print(errores_df)"
   ]
  },
  {
   "cell_type": "code",
   "execution_count": null,
   "id": "ac64e43e-740a-4f74-831c-03163be1047d",
   "metadata": {},
   "outputs": [],
   "source": []
  },
  {
   "cell_type": "code",
   "execution_count": 67,
   "id": "1a21f80c-ddfd-49bc-82f5-1e13518caf1b",
   "metadata": {},
   "outputs": [
    {
     "name": "stdout",
     "output_type": "stream",
     "text": [
      "🔍 Descargando datos...\n"
     ]
    },
    {
     "name": "stderr",
     "output_type": "stream",
     "text": [
      "C:\\Users\\lenovo\\AppData\\Local\\Temp\\ipykernel_19812\\1822231461.py:30: FutureWarning: YF.download() has changed argument auto_adjust default to True\n",
      "  data = yf.download(TICKER, start=start_date, end=end_date, progress=False)\n"
     ]
    },
    {
     "name": "stdout",
     "output_type": "stream",
     "text": [
      "📄 Columnas descargadas: Index(['Close', 'High', 'Low', 'Open', 'Volume'], dtype='object', name='Price')\n",
      "🔢 Tamaño del dataset: (2514, 5)\n",
      "📊 Usando columna de precios: Close\n",
      "🧪 Separando en entrenamiento y prueba...\n",
      "🌲 Entrenando modelo Random Forest...\n",
      "🔮 Generando predicciones...\n",
      "\n",
      "📈 Métricas de Error:\n",
      "MAE: 22.2236\n",
      "MSE: 559.4666\n",
      "RMSE: 23.653\n",
      "MAPE (%): 16.0492\n",
      "\n",
      "✅ Resultados guardados en /forecasts/\n"
     ]
    }
   ],
   "source": [
    "import mlflow\n",
    "import mlflow.sklearn  # Para modelos de sklearn\n",
    "\n",
    "\n",
    "import yfinance as yf\n",
    "import pandas as pd\n",
    "import numpy as np\n",
    "import os\n",
    "from datetime import datetime, timedelta\n",
    "from sklearn.ensemble import RandomForestRegressor\n",
    "from sklearn.metrics import mean_absolute_error, mean_squared_error\n",
    "\n",
    "# Configuración\n",
    "TICKER = \"NVDA\"\n",
    "YEARS_OF_DATA = 10\n",
    "FORECAST_DAYS = 30\n",
    "TEST_DAYS = 30\n",
    "\n",
    "def calculate_metrics(y_true, y_pred):\n",
    "    mae = mean_absolute_error(y_true, y_pred)\n",
    "    mse = mean_squared_error(y_true, y_pred)\n",
    "    rmse = np.sqrt(mse)\n",
    "    mape = np.mean(np.abs((y_true - y_pred) / y_true)) * 100\n",
    "    return {\n",
    "        'MAE': round(mae, 4),\n",
    "        'MSE': round(mse, 4),\n",
    "        'RMSE': round(rmse, 4),\n",
    "        'MAPE (%)': round(mape, 4)\n",
    "    }\n",
    "\n",
    "def download_stock_data():\n",
    "    end_date = datetime.now()\n",
    "    start_date = end_date - timedelta(days=YEARS_OF_DATA * 365)\n",
    "    data = yf.download(TICKER, start=start_date, end=end_date, progress=False)\n",
    "    if isinstance(data.columns, pd.MultiIndex):\n",
    "        data.columns = data.columns.get_level_values(0)\n",
    "    print(f\"📄 Columnas descargadas: {data.columns}\")\n",
    "    print(f\"🔢 Tamaño del dataset: {data.shape}\")\n",
    "    price_column = 'Close' if 'Close' in data.columns else 'Adj Close'\n",
    "    return data, price_column\n",
    "\n",
    "def prepare_data(data, price_column):\n",
    "    df = data[[price_column]].copy()\n",
    "    df = df.reset_index()\n",
    "    df.columns = ['ds', 'y']\n",
    "    df['ds'] = pd.to_datetime(df['ds'])\n",
    "    df['y'] = pd.to_numeric(df['y'], errors='coerce')\n",
    "    df.dropna(inplace=True)\n",
    "    return df\n",
    "\n",
    "def build_features(df):\n",
    "    # Convertimos la fecha a ordinal para que RF la entienda\n",
    "    df['ds_ordinal'] = df['ds'].map(datetime.toordinal)\n",
    "    return df[['ds', 'ds_ordinal', 'y']]\n",
    "\n",
    "def forecast_future_dates(df, model):\n",
    "    last_date = df['ds'].max()\n",
    "    future_dates = [last_date + timedelta(days=i) for i in range(1, FORECAST_DAYS + 1)]\n",
    "    future_ordinals = [d.toordinal() for d in future_dates]\n",
    "    \n",
    "    X_future = pd.DataFrame({'ds': future_dates, 'ds_ordinal': future_ordinals})\n",
    "    X_pred = X_future[['ds_ordinal']]\n",
    "    y_pred = model.predict(X_pred)\n",
    "    \n",
    "    future_forecast = X_future.copy()\n",
    "    future_forecast['yhat'] = y_pred\n",
    "    return future_forecast\n",
    "\n",
    "def save_results(forecast, metrics):\n",
    "    os.makedirs(\"forecasts\", exist_ok=True)\n",
    "    today = datetime.now().strftime(\"%Y%m%d\")\n",
    "    \n",
    "    forecast.to_csv(f\"forecasts/nvda_forecast_rf_{today}.csv\", index=False)\n",
    "    pd.DataFrame([metrics]).to_csv(f\"forecasts/nvda_metrics_rf_{today}.csv\", index=False)\n",
    "    with open(f\"forecasts/metrics_log_rf_{today}.txt\", \"w\") as f:\n",
    "        for k, v in metrics.items():\n",
    "            f.write(f\"{k}: {v}\\n\")\n",
    "\n",
    "if __name__ == \"__main__\":\n",
    "    try:\n",
    "        print(\"🔍 Descargando datos...\")\n",
    "        data, price_column = download_stock_data()\n",
    "        print(f\"📊 Usando columna de precios: {price_column}\")\n",
    "        \n",
    "        df = prepare_data(data, price_column)\n",
    "        df = build_features(df)\n",
    "\n",
    "        print(\"🧪 Separando en entrenamiento y prueba...\")\n",
    "        train = df[:-TEST_DAYS]\n",
    "        test = df[-TEST_DAYS:]\n",
    "\n",
    "        X_train = train[['ds_ordinal']]\n",
    "        y_train = train['y']\n",
    "        X_test = test[['ds_ordinal']]\n",
    "        y_test = test['y']\n",
    "\n",
    "        print(\"🌲 Entrenando modelo Random Forest...\")\n",
    "        model = RandomForestRegressor(n_estimators=100, random_state=42)\n",
    "        model.fit(X_train, y_train)\n",
    "\n",
    "        print(\"🔮 Generando predicciones...\")\n",
    "        y_pred_test = model.predict(X_test)\n",
    "        metrics = calculate_metrics(y_test, y_pred_test)\n",
    "\n",
    "        # Forecast de los próximos 30 días\n",
    "        future_forecast = forecast_future_dates(df, model)\n",
    "\n",
    "        print(\"\\n📈 Métricas de Error:\")\n",
    "        for k, v in metrics.items():\n",
    "            print(f\"{k}: {v}\")\n",
    "\n",
    "        save_results(future_forecast, metrics)\n",
    "        print(\"\\n✅ Resultados guardados en /forecasts/\")\n",
    "\n",
    "    except Exception as e:\n",
    "        print(f\"\\n❌ Error: {str(e)}\")"
   ]
  },
  {
   "cell_type": "code",
   "execution_count": null,
   "id": "e5f9d7d2-ff2f-4190-81a0-7acfe9b66397",
   "metadata": {},
   "outputs": [],
   "source": []
  },
  {
   "cell_type": "code",
   "execution_count": 68,
   "id": "322eed75-b374-4265-b82c-cb7e6174eae4",
   "metadata": {},
   "outputs": [],
   "source": [
    "def append_to_list(value, my_list=[]):\n",
    "    my_list.append(value)\n",
    "return my_list"
   ]
  },
  {
   "cell_type": "code",
   "execution_count": 70,
   "id": "d1307ae5-6cb5-4b6b-b8a2-270cba4155d9",
   "metadata": {},
   "outputs": [
    {
     "name": "stdout",
     "output_type": "stream",
     "text": [
      "[1]\n",
      "[1, 2]\n",
      "[1, 2, 3]\n"
     ]
    }
   ],
   "source": [
    "print(append_to_list(1))\n",
    "print(append_to_list(2))\n",
    "print(append_to_list(3))"
   ]
  },
  {
   "cell_type": "code",
   "execution_count": 71,
   "id": "68f22440-6ef2-4a82-8458-652986715125",
   "metadata": {},
   "outputs": [
    {
     "name": "stdout",
     "output_type": "stream",
     "text": [
      "0\n"
     ]
    }
   ],
   "source": [
    "import threading\n",
    "\n",
    "counter = 0\n",
    "\n",
    "def increment():\n",
    "    global counter\n",
    "    for _ in range(1000000):\n",
    "        counter += 1\n",
    "        t1 = threading.Thread(target=increment)\n",
    "        t2 = threading.Thread(target=increment)\n",
    "        t1.start()\n",
    "        t2.start()\n",
    "        t1.join()\n",
    "        t2.join()\n",
    "print(counter)"
   ]
  },
  {
   "cell_type": "code",
   "execution_count": null,
   "id": "76ae8818-94db-4d21-a28f-22591b4c1e64",
   "metadata": {},
   "outputs": [],
   "source": []
  }
 ],
 "metadata": {
  "kernelspec": {
   "display_name": "Python [conda env:.conda-DeepLearningPrueba]",
   "language": "python",
   "name": "conda-env-.conda-DeepLearningPrueba-py"
  },
  "language_info": {
   "codemirror_mode": {
    "name": "ipython",
    "version": 3
   },
   "file_extension": ".py",
   "mimetype": "text/x-python",
   "name": "python",
   "nbconvert_exporter": "python",
   "pygments_lexer": "ipython3",
   "version": "3.11.9"
  }
 },
 "nbformat": 4,
 "nbformat_minor": 5
}
