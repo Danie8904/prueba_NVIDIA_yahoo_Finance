{
 "cells": [
  {
   "cell_type": "markdown",
   "id": "32f7aea4-63d6-43e9-8e2c-bdc976914fd0",
   "metadata": {},
   "source": [
    "# Proceso Modelamiento ML Ops - Yahoo Finance - Nvidia\n",
    "## Realizado por Daniel Muñoz Palma"
   ]
  },
  {
   "cell_type": "code",
   "execution_count": 3,
   "id": "0d5224dc-6948-41ce-9173-110dabd51347",
   "metadata": {},
   "outputs": [],
   "source": [
    "#!pip install yfinance -q"
   ]
  },
  {
   "cell_type": "code",
   "execution_count": 25,
   "id": "8058dea5-47e5-47c9-9736-32d328fbe76f",
   "metadata": {},
   "outputs": [
    {
     "name": "stderr",
     "output_type": "stream",
     "text": [
      "\n",
      "[notice] A new release of pip is available: 24.2 -> 25.1.1\n",
      "[notice] To update, run: python.exe -m pip install --upgrade pip\n"
     ]
    }
   ],
   "source": [
    "!pip install prophet -q"
   ]
  },
  {
   "cell_type": "markdown",
   "id": "f5be3c38-4e6a-406c-b879-b88f8b932bbd",
   "metadata": {},
   "source": [
    "## Librerias"
   ]
  },
  {
   "cell_type": "code",
   "execution_count": 5,
   "id": "ebee46dc-8aec-4b15-b010-14f9472b7dcf",
   "metadata": {},
   "outputs": [],
   "source": [
    "import yfinance as yf\n",
    "import pandas as pd\n",
    "import matplotlib.pyplot as plt"
   ]
  },
  {
   "cell_type": "markdown",
   "id": "55a88280-6e7f-48d4-b9cc-99ea5e21c3db",
   "metadata": {},
   "source": [
    "## 1. Punto: Extraer datos históricos de la compañía Nvidia y sus componentes desde Yahoo Finance utilizando Python"
   ]
  },
  {
   "cell_type": "code",
   "execution_count": 6,
   "id": "9f8d0772-b275-4eb0-8447-20c1f4b78f44",
   "metadata": {},
   "outputs": [],
   "source": [
    "nvidia = yf.Ticker(\"NVDA\")\n",
    "\n",
    "# Se descargar datos históricos de NVDAD últimos 10 años\n",
    "hist = nvidia.history(period=\"10y\")"
   ]
  },
  {
   "cell_type": "code",
   "execution_count": 7,
   "id": "3a5119f5-1b7d-40df-a6a0-b45ad294defd",
   "metadata": {},
   "outputs": [
    {
     "data": {
      "text/html": [
       "<div>\n",
       "<style scoped>\n",
       "    .dataframe tbody tr th:only-of-type {\n",
       "        vertical-align: middle;\n",
       "    }\n",
       "\n",
       "    .dataframe tbody tr th {\n",
       "        vertical-align: top;\n",
       "    }\n",
       "\n",
       "    .dataframe thead th {\n",
       "        text-align: right;\n",
       "    }\n",
       "</style>\n",
       "<table border=\"1\" class=\"dataframe\">\n",
       "  <thead>\n",
       "    <tr style=\"text-align: right;\">\n",
       "      <th></th>\n",
       "      <th>Open</th>\n",
       "      <th>High</th>\n",
       "      <th>Low</th>\n",
       "      <th>Close</th>\n",
       "      <th>Volume</th>\n",
       "      <th>Dividends</th>\n",
       "      <th>Stock Splits</th>\n",
       "    </tr>\n",
       "    <tr>\n",
       "      <th>Date</th>\n",
       "      <th></th>\n",
       "      <th></th>\n",
       "      <th></th>\n",
       "      <th></th>\n",
       "      <th></th>\n",
       "      <th></th>\n",
       "      <th></th>\n",
       "    </tr>\n",
       "  </thead>\n",
       "  <tbody>\n",
       "    <tr>\n",
       "      <th>2015-06-19 00:00:00-04:00</th>\n",
       "      <td>0.530975</td>\n",
       "      <td>0.535331</td>\n",
       "      <td>0.524440</td>\n",
       "      <td>0.529280</td>\n",
       "      <td>355656000</td>\n",
       "      <td>0.0</td>\n",
       "      <td>0.0</td>\n",
       "    </tr>\n",
       "    <tr>\n",
       "      <th>2015-06-22 00:00:00-04:00</th>\n",
       "      <td>0.530248</td>\n",
       "      <td>0.533153</td>\n",
       "      <td>0.519116</td>\n",
       "      <td>0.527102</td>\n",
       "      <td>514236000</td>\n",
       "      <td>0.0</td>\n",
       "      <td>0.0</td>\n",
       "    </tr>\n",
       "    <tr>\n",
       "      <th>2015-06-23 00:00:00-04:00</th>\n",
       "      <td>0.528070</td>\n",
       "      <td>0.532185</td>\n",
       "      <td>0.509435</td>\n",
       "      <td>0.513550</td>\n",
       "      <td>414064000</td>\n",
       "      <td>0.0</td>\n",
       "      <td>0.0</td>\n",
       "    </tr>\n",
       "    <tr>\n",
       "      <th>2015-06-24 00:00:00-04:00</th>\n",
       "      <td>0.512824</td>\n",
       "      <td>0.515486</td>\n",
       "      <td>0.506047</td>\n",
       "      <td>0.508467</td>\n",
       "      <td>253368000</td>\n",
       "      <td>0.0</td>\n",
       "      <td>0.0</td>\n",
       "    </tr>\n",
       "    <tr>\n",
       "      <th>2015-06-25 00:00:00-04:00</th>\n",
       "      <td>0.508467</td>\n",
       "      <td>0.515486</td>\n",
       "      <td>0.508467</td>\n",
       "      <td>0.512339</td>\n",
       "      <td>350460000</td>\n",
       "      <td>0.0</td>\n",
       "      <td>0.0</td>\n",
       "    </tr>\n",
       "  </tbody>\n",
       "</table>\n",
       "</div>"
      ],
      "text/plain": [
       "                               Open      High       Low     Close     Volume  \\\n",
       "Date                                                                           \n",
       "2015-06-19 00:00:00-04:00  0.530975  0.535331  0.524440  0.529280  355656000   \n",
       "2015-06-22 00:00:00-04:00  0.530248  0.533153  0.519116  0.527102  514236000   \n",
       "2015-06-23 00:00:00-04:00  0.528070  0.532185  0.509435  0.513550  414064000   \n",
       "2015-06-24 00:00:00-04:00  0.512824  0.515486  0.506047  0.508467  253368000   \n",
       "2015-06-25 00:00:00-04:00  0.508467  0.515486  0.508467  0.512339  350460000   \n",
       "\n",
       "                           Dividends  Stock Splits  \n",
       "Date                                                \n",
       "2015-06-19 00:00:00-04:00        0.0           0.0  \n",
       "2015-06-22 00:00:00-04:00        0.0           0.0  \n",
       "2015-06-23 00:00:00-04:00        0.0           0.0  \n",
       "2015-06-24 00:00:00-04:00        0.0           0.0  \n",
       "2015-06-25 00:00:00-04:00        0.0           0.0  "
      ]
     },
     "execution_count": 7,
     "metadata": {},
     "output_type": "execute_result"
    }
   ],
   "source": [
    "hist.head()"
   ]
  },
  {
   "cell_type": "markdown",
   "id": "6f98806a-e352-4b85-ab6b-56fa110ebed9",
   "metadata": {},
   "source": [
    "##  Gráfico Comportamiento histórico NVIDIA (\"Precio de Cierre\")"
   ]
  },
  {
   "cell_type": "code",
   "execution_count": 10,
   "id": "475980ea-f685-47df-981e-e244d4a7ba0e",
   "metadata": {},
   "outputs": [
    {
     "data": {
      "image/png": "[encoded data removed]",
      "text/plain": [
       "<Figure size 800x400 with 1 Axes>"
      ]
     },
     "metadata": {},
     "output_type": "display_data"
    }
   ],
   "source": [
    "hist = hist.reset_index()\n",
    "\n",
    "plt.figure(figsize=(8, 4))\n",
    "plt.plot(hist['Date'], hist['Close'], color='blue', linewidth=2)\n",
    "\n",
    "plt.title(\"Precio de Cierre de NVIDIA (últimos 10 años)\")\n",
    "plt.xlabel(\"Fecha\")\n",
    "plt.ylabel(\"Precio en USD\")\n",
    "plt.grid(True)\n",
    "plt.tight_layout()\n",
    "plt.show()\n"
   ]
  },
  {
   "cell_type": "markdown",
   "id": "d912796e-fa90-422a-8101-7c0225434b72",
   "metadata": {},
   "source": [
    "## Modelos "
   ]
  },
  {
   "cell_type": "code",
   "execution_count": null,
   "id": "ed1699df-a815-4559-98da-8a0af6f52db6",
   "metadata": {},
   "outputs": [],
   "source": []
  },
  {
   "cell_type": "code",
   "execution_count": 14,
   "id": "13d26f5d-55ae-4625-8872-5182a1bea664",
   "metadata": {},
   "outputs": [
    {
     "name": "stderr",
     "output_type": "stream",
     "text": [
      "C:\\Users\\lenovo\\AppData\\Local\\Temp\\ipykernel_5364\\2788342777.py:2: SettingWithCopyWarning: \n",
      "A value is trying to be set on a copy of a slice from a DataFrame\n",
      "\n",
      "See the caveats in the documentation: https://pandas.pydata.org/pandas-docs/stable/user_guide/indexing.html#returning-a-view-versus-a-copy\n",
      "  df.rename(columns={'Date': 'ds', 'Close': 'y'}, inplace=True)\n"
     ]
    }
   ],
   "source": [
    "df = hist[['Date', 'Close']]\n",
    "df.rename(columns={'Date': 'ds', 'Close': 'y'}, inplace=True)"
   ]
  },
  {
   "cell_type": "code",
   "execution_count": 16,
   "id": "76a18db2-2bff-44a9-be05-8308bf21d815",
   "metadata": {},
   "outputs": [
    {
     "name": "stderr",
     "output_type": "stream",
     "text": [
      "C:\\Users\\lenovo\\AppData\\Local\\Temp\\ipykernel_5364\\1227424457.py:1: SettingWithCopyWarning: \n",
      "A value is trying to be set on a copy of a slice from a DataFrame.\n",
      "Try using .loc[row_indexer,col_indexer] = value instead\n",
      "\n",
      "See the caveats in the documentation: https://pandas.pydata.org/pandas-docs/stable/user_guide/indexing.html#returning-a-view-versus-a-copy\n",
      "  df['ds'] = df['ds'].dt.tz_localize(None)\n"
     ]
    }
   ],
   "source": [
    "df['ds'] = df['ds'].dt.tz_localize(None)"
   ]
  },
  {
   "cell_type": "code",
   "execution_count": 17,
   "id": "74efb0be-18dc-4a41-ad63-addf0630e728",
   "metadata": {},
   "outputs": [
    {
     "data": {
      "text/html": [
       "<div>\n",
       "<style scoped>\n",
       "    .dataframe tbody tr th:only-of-type {\n",
       "        vertical-align: middle;\n",
       "    }\n",
       "\n",
       "    .dataframe tbody tr th {\n",
       "        vertical-align: top;\n",
       "    }\n",
       "\n",
       "    .dataframe thead th {\n",
       "        text-align: right;\n",
       "    }\n",
       "</style>\n",
       "<table border=\"1\" class=\"dataframe\">\n",
       "  <thead>\n",
       "    <tr style=\"text-align: right;\">\n",
       "      <th></th>\n",
       "      <th>ds</th>\n",
       "      <th>y</th>\n",
       "    </tr>\n",
       "  </thead>\n",
       "  <tbody>\n",
       "    <tr>\n",
       "      <th>0</th>\n",
       "      <td>2015-06-19</td>\n",
       "      <td>0.529280</td>\n",
       "    </tr>\n",
       "    <tr>\n",
       "      <th>1</th>\n",
       "      <td>2015-06-22</td>\n",
       "      <td>0.527102</td>\n",
       "    </tr>\n",
       "    <tr>\n",
       "      <th>2</th>\n",
       "      <td>2015-06-23</td>\n",
       "      <td>0.513550</td>\n",
       "    </tr>\n",
       "    <tr>\n",
       "      <th>3</th>\n",
       "      <td>2015-06-24</td>\n",
       "      <td>0.508467</td>\n",
       "    </tr>\n",
       "    <tr>\n",
       "      <th>4</th>\n",
       "      <td>2015-06-25</td>\n",
       "      <td>0.512339</td>\n",
       "    </tr>\n",
       "    <tr>\n",
       "      <th>...</th>\n",
       "      <td>...</td>\n",
       "      <td>...</td>\n",
       "    </tr>\n",
       "    <tr>\n",
       "      <th>2510</th>\n",
       "      <td>2025-06-12</td>\n",
       "      <td>145.000000</td>\n",
       "    </tr>\n",
       "    <tr>\n",
       "      <th>2511</th>\n",
       "      <td>2025-06-13</td>\n",
       "      <td>141.970001</td>\n",
       "    </tr>\n",
       "    <tr>\n",
       "      <th>2512</th>\n",
       "      <td>2025-06-16</td>\n",
       "      <td>144.690002</td>\n",
       "    </tr>\n",
       "    <tr>\n",
       "      <th>2513</th>\n",
       "      <td>2025-06-17</td>\n",
       "      <td>144.119995</td>\n",
       "    </tr>\n",
       "    <tr>\n",
       "      <th>2514</th>\n",
       "      <td>2025-06-18</td>\n",
       "      <td>145.479996</td>\n",
       "    </tr>\n",
       "  </tbody>\n",
       "</table>\n",
       "<p>2515 rows × 2 columns</p>\n",
       "</div>"
      ],
      "text/plain": [
       "             ds           y\n",
       "0    2015-06-19    0.529280\n",
       "1    2015-06-22    0.527102\n",
       "2    2015-06-23    0.513550\n",
       "3    2015-06-24    0.508467\n",
       "4    2015-06-25    0.512339\n",
       "...         ...         ...\n",
       "2510 2025-06-12  145.000000\n",
       "2511 2025-06-13  141.970001\n",
       "2512 2025-06-16  144.690002\n",
       "2513 2025-06-17  144.119995\n",
       "2514 2025-06-18  145.479996\n",
       "\n",
       "[2515 rows x 2 columns]"
      ]
     },
     "execution_count": 17,
     "metadata": {},
     "output_type": "execute_result"
    }
   ],
   "source": [
    "df"
   ]
  },
  {
   "cell_type": "code",
   "execution_count": 24,
   "id": "a218c035-0221-4824-9a23-ef96ffdfc7ce",
   "metadata": {},
   "outputs": [
    {
     "ename": "ModuleNotFoundError",
     "evalue": "No module named 'prophet'",
     "output_type": "error",
     "traceback": [
      "\u001b[1;31m---------------------------------------------------------------------------\u001b[0m",
      "\u001b[1;31mModuleNotFoundError\u001b[0m                       Traceback (most recent call last)",
      "Cell \u001b[1;32mIn[24], line 1\u001b[0m\n\u001b[1;32m----> 1\u001b[0m \u001b[38;5;28;01mfrom\u001b[39;00m \u001b[38;5;21;01mprophet\u001b[39;00m \u001b[38;5;28;01mimport\u001b[39;00m Prophet\n",
      "\u001b[1;31mModuleNotFoundError\u001b[0m: No module named 'prophet'"
     ]
    }
   ],
   "source": [
    "from prophet import Prophet"
   ]
  },
  {
   "cell_type": "code",
   "execution_count": 22,
   "id": "4a9b0099-a1d0-4fd5-87be-b7d3d0267edc",
   "metadata": {},
   "outputs": [
    {
     "ename": "NameError",
     "evalue": "name 'Prophet' is not defined",
     "output_type": "error",
     "traceback": [
      "\u001b[1;31m---------------------------------------------------------------------------\u001b[0m",
      "\u001b[1;31mNameError\u001b[0m                                 Traceback (most recent call last)",
      "Cell \u001b[1;32mIn[22], line 1\u001b[0m\n\u001b[1;32m----> 1\u001b[0m model \u001b[38;5;241m=\u001b[39m Prophet(daily_seasonality\u001b[38;5;241m=\u001b[39m\u001b[38;5;28;01mTrue\u001b[39;00m)\n\u001b[0;32m      2\u001b[0m model\u001b[38;5;241m.\u001b[39mfit(df)\n",
      "\u001b[1;31mNameError\u001b[0m: name 'Prophet' is not defined"
     ]
    }
   ],
   "source": [
    "model = Prophet(daily_seasonality=True)\n",
    "model.fit(df)"
   ]
  },
  {
   "cell_type": "code",
   "execution_count": null,
   "id": "0d2aa521-4d83-4a40-bbf8-7aa1688c0482",
   "metadata": {},
   "outputs": [],
   "source": [
    "# Predecir los próximos 30 días\n",
    "future = model.make_future_dataframe(periods=30)\n",
    "forecast = model.predict(future)\n",
    "\n",
    "# Graficar resultado\n",
    "model.plot(forecast);"
   ]
  },
  {
   "cell_type": "code",
   "execution_count": null,
   "id": "252d9d52-ccad-4ff0-8504-1fab00e55007",
   "metadata": {},
   "outputs": [],
   "source": [
    "from matplotlib import pyplot as plt\n",
    "\n",
    "# Descomposición de la serie\n",
    "fig = model.plot_components(forecast)\n",
    "plt.tight_layout()\n",
    "plt.show()"
   ]
  },
  {
   "cell_type": "code",
   "execution_count": null,
   "id": "4c785edc-5e8d-4c46-9f5b-ce21b87f9a78",
   "metadata": {},
   "outputs": [],
   "source": [
    "from sklearn.metrics import mean_absolute_error, mean_squared_error\n",
    "import numpy as np\n",
    "import pandas as pd\n",
    "\n",
    "# Unir forecast y datos reales\n",
    "df_pred = forecast[['ds', 'yhat']].copy()\n",
    "df_eval = df.merge(df_pred, on='ds')\n",
    "\n",
    "# Variables reales vs. predichas\n",
    "y_true = df_eval['y']\n",
    "y_pred = df_eval['yhat']\n",
    "\n",
    "# Cálculo de errores\n",
    "mae  = mean_absolute_error(y_true, y_pred)\n",
    "mse  = mean_squared_error(y_true, y_pred)\n",
    "rmse = np.sqrt(mse)\n",
    "mape = np.mean(np.abs((y_true - y_pred) / y_true)) * 100"
   ]
  },
  {
   "cell_type": "code",
   "execution_count": null,
   "id": "21e58041-24d8-476c-a72c-dc6daff1a0ef",
   "metadata": {},
   "outputs": [],
   "source": [
    "# Crear DataFrame resumen\n",
    "error_df = pd.DataFrame({\n",
    "    'Métrica': ['MAE', 'MSE', 'RMSE', 'MAPE(%)'],\n",
    "    'Valor': [mae, mse, rmse, mape]\n",
    "})\n",
    "\n",
    "# Redondear para presentación\n",
    "error_df['Valor'] = error_df['Valor'].round(2)\n",
    "\n",
    "error_df"
   ]
  },
  {
   "cell_type": "code",
   "execution_count": null,
   "id": "cfea0ad1-9ad6-4e2f-933b-84ddfd308261",
   "metadata": {},
   "outputs": [],
   "source": []
  }
 ],
 "metadata": {
  "kernelspec": {
   "display_name": "Python [conda env:.conda-DeepLearningPrueba]",
   "language": "python",
   "name": "conda-env-.conda-DeepLearningPrueba-py"
  },
  "language_info": {
   "codemirror_mode": {
    "name": "ipython",
    "version": 3
   },
   "file_extension": ".py",
   "mimetype": "text/x-python",
   "name": "python",
   "nbconvert_exporter": "python",
   "pygments_lexer": "ipython3",
   "version": "3.11.9"
  }
 },
 "nbformat": 4,
 "nbformat_minor": 5
}
